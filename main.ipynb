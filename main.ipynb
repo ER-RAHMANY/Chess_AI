{
 "cells": [
  {
   "cell_type": "code",
   "execution_count": null,
   "metadata": {},
   "outputs": [],
   "source": [
    "import chess\n",
    "from src.env.chess import ChessEnv\n",
    "from src.agent.mcts_agent import MCTSAgent\n",
    "import chess.pgn\n",
    "import torch\n",
    "from torch.utils.data import Dataset\n",
    "import os\n",
    "\n",
    "from src.agent.chess_dataset import ChessStockfishDataset"
   ]
  },
  {
   "cell_type": "markdown",
   "metadata": {},
   "source": [
    "### Training of Neural Network for our MCTS"
   ]
  },
  {
   "cell_type": "code",
   "execution_count": 2,
   "metadata": {},
   "outputs": [],
   "source": [
    "RESULT_MAP = {\"1-0\": 1, \"0-1\": -1, \"1/2-1/2\": 0}"
   ]
  },
  {
   "cell_type": "code",
   "execution_count": 3,
   "metadata": {},
   "outputs": [],
   "source": [
    "def board_to_tensor(board):\n",
    "    \"\"\"Converts a python-chess board to a 8x8x12 tensor.\"\"\"\n",
    "    tensor = torch.zeros(12, 8, 8)\n",
    "    piece_map = board.piece_map()\n",
    "    for square, piece in piece_map.items():\n",
    "        piece_type = piece.piece_type - 1  # 0–5\n",
    "        color_offset = 0 if piece.color == chess.WHITE else 6\n",
    "        row, col = divmod(square, 8)\n",
    "        tensor[color_offset + piece_type, 7 - row, col] = 1\n",
    "    return tensor\n",
    "\n",
    "class ChessDataset(Dataset):\n",
    "    def __init__(self, pgn_path, max_games=10000):\n",
    "        self.data = []\n",
    "        with open(pgn_path) as f:\n",
    "            game = chess.pgn.read_game(f)\n",
    "            count = 0\n",
    "            while game and count < max_games:\n",
    "                result = RESULT_MAP.get(game.headers[\"Result\"])\n",
    "                if result is not None:\n",
    "                    board = game.board()\n",
    "                    for move in game.mainline_moves():\n",
    "                        state = board_to_tensor(board)\n",
    "                        move_index = move_to_index(move)  # Defined below\n",
    "                        self.data.append((state, move_index, result))\n",
    "                        board.push(move)\n",
    "                count += 1\n",
    "                game = chess.pgn.read_game(f)\n",
    "\n",
    "    def __len__(self):\n",
    "        return len(self.data)\n",
    "\n",
    "    def __getitem__(self, idx):\n",
    "        state, move_idx, result = self.data[idx]\n",
    "        return state, torch.tensor(move_idx), torch.tensor(result, dtype=torch.float32)\n",
    "    \n",
    "class CachedChessDataset(Dataset):\n",
    "    def __init__(self, cache_dir):\n",
    "        self.data = []\n",
    "        if os.path.exists(cache_dir):\n",
    "            with open(cache_dir, 'rb') as f:\n",
    "                self.data = torch.load(f)\n",
    "        else:\n",
    "            raise FileNotFoundError(f\"Cache file {cache_dir} does not exist.\")\n",
    "\n",
    "    def __len__(self):\n",
    "        return len(self.data)\n",
    "\n",
    "    def __getitem__(self, idx):\n",
    "        state, move_idx, result = self.data[idx]\n",
    "        return state, torch.tensor(move_idx), torch.tensor(result, dtype=torch.float32)\n",
    "\n",
    "def move_to_index(move):\n",
    "    \"\"\"Maps a move to an index (simplified version).\"\"\"\n",
    "    return move.from_square * 64 + move.to_square  # 0–4095"
   ]
  },
  {
   "cell_type": "code",
   "execution_count": null,
   "metadata": {},
   "outputs": [
    {
     "name": "stderr",
     "output_type": "stream",
     "text": [
      "C:\\Users\\Nizar\\AppData\\Local\\Temp\\ipykernel_22428\\1639820129.py:42: FutureWarning: You are using `torch.load` with `weights_only=False` (the current default value), which uses the default pickle module implicitly. It is possible to construct malicious pickle data which will execute arbitrary code during unpickling (See https://github.com/pytorch/pytorch/blob/main/SECURITY.md#untrusted-models for more details). In a future release, the default value for `weights_only` will be flipped to `True`. This limits the functions that could be executed during unpickling. Arbitrary objects will no longer be allowed to be loaded via this mode unless they are explicitly allowlisted by the user via `torch.serialization.add_safe_globals`. We recommend you start setting `weights_only=True` for any use case where you don't have full control of the loaded file. Please open an issue on GitHub for any issues related to this experimental feature.\n",
      "  self.data = torch.load(f)\n"
     ]
    }
   ],
   "source": [
    "from torch.utils.data import random_split, DataLoader\n",
    "\n",
    "generator = torch.Generator().manual_seed(42) \n",
    "\n",
    "batch_size = 4096\n",
    "dataset_path = \"src/data/chess_dataset_normalized.pt\"\n",
    "\n",
    "# Load full dataset\n",
    "dataset = CachedChessDataset(dataset_path)\n",
    "dataloader = DataLoader(dataset, batch_size=batch_size, shuffle=True)\n",
    "\n"
   ]
  },
  {
   "cell_type": "code",
   "execution_count": 5,
   "metadata": {},
   "outputs": [],
   "source": [
    "# Define split sizes\n",
    "val_ratio = 0.1  # 10% validation\n",
    "val_size = int(len(dataset) * val_ratio)\n",
    "train_size = len(dataset) - val_size\n",
    "\n",
    "# Do the split\n",
    "train_dataset, val_dataset = random_split(dataset, [train_size, val_size], generator=generator)\n",
    "\n",
    "# Create loaders\n",
    "train_loader = DataLoader(train_dataset, batch_size=batch_size, shuffle=True)\n",
    "val_loader = DataLoader(val_dataset, batch_size=batch_size, shuffle=False)"
   ]
  },
  {
   "cell_type": "code",
   "execution_count": 6,
   "metadata": {},
   "outputs": [
    {
     "name": "stdout",
     "output_type": "stream",
     "text": [
      "550262 61140\n"
     ]
    }
   ],
   "source": [
    "print(len(train_loader.dataset), len(val_loader.dataset))"
   ]
  },
  {
   "cell_type": "code",
   "execution_count": 7,
   "metadata": {},
   "outputs": [],
   "source": [
    "import torch.nn as nn\n",
    "    \n",
    "def init_weights(m):\n",
    "    if isinstance(m, nn.Linear) or isinstance(m, nn.Conv2d):\n",
    "        nn.init.xavier_uniform_(m.weight)\n",
    "        if m.bias is not None:\n",
    "            nn.init.zeros_(m.bias)\n",
    "\n"
   ]
  },
  {
   "cell_type": "code",
   "execution_count": 8,
   "metadata": {},
   "outputs": [
    {
     "name": "stdout",
     "output_type": "stream",
     "text": [
      "Using device: cuda\n"
     ]
    }
   ],
   "source": [
    "from tqdm import tqdm\n",
    "from src.agent.model import AlphaGoNet, ChessNet\n",
    "\n",
    "input_shape = (12, 8, 8)  # 12 channels for chess pieces, 8x8 board\n",
    "output_shape = (4096, 1)  # 4096 possible moves\n",
    "n_res_blocks = 5\n",
    "\n",
    "device = torch.device(\"cuda\" if torch.cuda.is_available() else \"cpu\")\n",
    "print(f\"Using device: {device}\")\n",
    "\n",
    "def train_model(train_loader, val_loader, epochs=5, lr=1e-3, device=device):\n",
    "    \n",
    "    \n",
    "    model = ChessNet().to(device)\n",
    "    # model = AlphaGoNet(input_shape, output_shape, n_res_blocks).to(device)\n",
    "    model.apply(init_weights)\n",
    "    \n",
    "    with torch.no_grad():\n",
    "        policy, value = model(torch.randn(1, 12, 8, 8).to(device))\n",
    "        print(\"Initial value:\", value.item())\n",
    "        print(\"Policy logits std:\", policy.std().item())\n",
    "\n",
    "    alpha_max = 1\n",
    "    \n",
    "    optimizer = torch.optim.Adam(model.parameters(), lr=lr)\n",
    "    loss_policy = nn.CrossEntropyLoss()\n",
    "    loss_value = nn.MSELoss()\n",
    "    \n",
    "    train_policy_losses = []\n",
    "    train_value_losses = []\n",
    "    val_policy_losses = []\n",
    "    val_value_losses = []\n",
    "    best_val_loss = float(\"inf\")\n",
    "    \n",
    "    early_stop_counter = 0\n",
    "    \n",
    "    model.train()\n",
    "    print(\"starting training...\")\n",
    "    for epoch in range(epochs):\n",
    "        total_policy_loss = 0\n",
    "        total_value_loss = 0\n",
    "        \n",
    "        total_policy_loss_val = 0\n",
    "        total_value_loss_val = 0\n",
    "        \n",
    "        if epoch < 5:\n",
    "                alpha = 0\n",
    "        else:\n",
    "            alpha = min( alpha_max, alpha_max * 2 * (1 - epoch / epochs ))\n",
    "        \n",
    "        for states, moves, values in tqdm(train_loader, desc=f\"Epoch {epoch+1}\"):\n",
    "            \n",
    "            states = states.to(device)\n",
    "            moves = moves.to(device)\n",
    "            values = values.to(device)\n",
    "            \n",
    "            optimizer.zero_grad()\n",
    "            policy_logits, value_pred = model(states)\n",
    "\n",
    "            loss_p = loss_policy(policy_logits, moves)\n",
    "            loss_v = loss_value(value_pred.squeeze(), values)\n",
    "\n",
    "            loss = alpha * loss_p + loss_v\n",
    "            # print(loss.item())\n",
    "            loss.backward()\n",
    "            optimizer.step()\n",
    "\n",
    "            total_policy_loss += loss_p.item()\n",
    "            total_value_loss += loss_v.item()\n",
    "            \n",
    "        num_batches = len(train_loader)\n",
    "        avg_policy_loss = total_policy_loss / num_batches\n",
    "        avg_value_loss = total_value_loss / num_batches\n",
    "        \n",
    "        train_policy_losses.append(avg_policy_loss)\n",
    "        train_value_losses.append(avg_value_loss)\n",
    "\n",
    "        print(f\"Epoch {epoch+1} | Avg Policy Loss: {avg_policy_loss:.4f}, Avg Value Loss: {avg_value_loss:.4f}\")\n",
    "        \n",
    "        for states, moves, values in val_loader:\n",
    "            states = states.to(device)\n",
    "            moves = moves.to(device)\n",
    "            values = values.to(device)\n",
    "\n",
    "            with torch.no_grad():\n",
    "                policy_logits, value_pred = model(states)\n",
    "\n",
    "                loss_p = loss_policy(policy_logits, moves)\n",
    "                loss_v = loss_value(value_pred.squeeze(), values)\n",
    "\n",
    "                total_policy_loss_val += loss_p.item()\n",
    "                total_value_loss_val += loss_v.item()\n",
    "                \n",
    "        num_batches = len(val_loader)\n",
    "        avg_policy_loss = total_policy_loss_val / num_batches\n",
    "        avg_value_loss = total_value_loss_val / num_batches\n",
    "        \n",
    "        val_policy_losses.append(avg_policy_loss)\n",
    "        val_value_losses.append(avg_value_loss)\n",
    "        \n",
    "        print(f\"Validation | Avg Policy Loss: {avg_policy_loss:.4f}, Avg Value Loss: {avg_value_loss:.4f}\")\n",
    "        \n",
    "        # Save the model if validation loss improved\n",
    "        avg_val_loss = avg_policy_loss + 10 * avg_value_loss\n",
    "        if avg_val_loss < best_val_loss:\n",
    "            best_val_loss = avg_val_loss\n",
    "            torch.save(model.state_dict(), \"best_model_0.pth\")\n",
    "            print(f\"Model saved at epoch {epoch+1} with validation loss {avg_val_loss:.4f}\")\n",
    "            \n",
    "            early_stop_counter = 0\n",
    "            \n",
    "        # If validation loss is not improving for 5 epochs, stop training\n",
    "        else :\n",
    "            early_stop_counter += 1\n",
    "            if early_stop_counter >= 10:\n",
    "                print(\"Early stopping triggered.\")\n",
    "                break\n",
    "            \n",
    "    all_losses = {\n",
    "        \"train_policy\": train_policy_losses,\n",
    "        \"train_value\": train_value_losses,\n",
    "        \"val_policy\": val_policy_losses,\n",
    "        \"val_value\": val_value_losses,\n",
    "    }\n",
    "    \n",
    "    return model, all_losses"
   ]
  },
  {
   "cell_type": "code",
   "execution_count": null,
   "metadata": {},
   "outputs": [
    {
     "name": "stdout",
     "output_type": "stream",
     "text": [
      "Initial value: 0.8154364228248596\n",
      "Policy logits std: 0.5678616166114807\n",
      "starting training...\n"
     ]
    },
    {
     "name": "stderr",
     "output_type": "stream",
     "text": [
      "Epoch 1: 100%|██████████| 135/135 [00:12<00:00, 10.51it/s]\n"
     ]
    },
    {
     "name": "stdout",
     "output_type": "stream",
     "text": [
      "Epoch 1 | Avg Policy Loss: 8.4886, Avg Value Loss: 0.2714\n",
      "Validation | Avg Policy Loss: 8.4871, Avg Value Loss: 0.1943\n",
      "Model saved at epoch 1 with validation loss 10.4296\n"
     ]
    },
    {
     "name": "stderr",
     "output_type": "stream",
     "text": [
      "Epoch 2: 100%|██████████| 135/135 [00:11<00:00, 11.37it/s]\n"
     ]
    },
    {
     "name": "stdout",
     "output_type": "stream",
     "text": [
      "Epoch 2 | Avg Policy Loss: 8.4851, Avg Value Loss: 0.1783\n",
      "Validation | Avg Policy Loss: 8.4845, Avg Value Loss: 0.1641\n",
      "Model saved at epoch 2 with validation loss 10.1259\n"
     ]
    },
    {
     "name": "stderr",
     "output_type": "stream",
     "text": [
      "Epoch 3: 100%|██████████| 135/135 [00:12<00:00, 11.04it/s]\n"
     ]
    },
    {
     "name": "stdout",
     "output_type": "stream",
     "text": [
      "Epoch 3 | Avg Policy Loss: 8.4827, Avg Value Loss: 0.1593\n",
      "Validation | Avg Policy Loss: 8.4828, Avg Value Loss: 0.1551\n",
      "Model saved at epoch 3 with validation loss 10.0336\n"
     ]
    },
    {
     "name": "stderr",
     "output_type": "stream",
     "text": [
      "Epoch 4: 100%|██████████| 135/135 [00:12<00:00, 10.96it/s]\n"
     ]
    },
    {
     "name": "stdout",
     "output_type": "stream",
     "text": [
      "Epoch 4 | Avg Policy Loss: 8.4812, Avg Value Loss: 0.1507\n",
      "Validation | Avg Policy Loss: 8.4816, Avg Value Loss: 0.1462\n",
      "Model saved at epoch 4 with validation loss 9.9437\n"
     ]
    },
    {
     "name": "stderr",
     "output_type": "stream",
     "text": [
      "Epoch 5: 100%|██████████| 135/135 [00:11<00:00, 11.42it/s]\n"
     ]
    },
    {
     "name": "stdout",
     "output_type": "stream",
     "text": [
      "Epoch 5 | Avg Policy Loss: 8.4801, Avg Value Loss: 0.1448\n",
      "Validation | Avg Policy Loss: 8.4808, Avg Value Loss: 0.1472\n"
     ]
    },
    {
     "name": "stderr",
     "output_type": "stream",
     "text": [
      "Epoch 6: 100%|██████████| 135/135 [00:11<00:00, 11.72it/s]\n"
     ]
    },
    {
     "name": "stdout",
     "output_type": "stream",
     "text": [
      "Epoch 6 | Avg Policy Loss: 5.9885, Avg Value Loss: 0.1431\n",
      "Validation | Avg Policy Loss: 5.4278, Avg Value Loss: 0.1431\n",
      "Model saved at epoch 6 with validation loss 6.8583\n"
     ]
    },
    {
     "name": "stderr",
     "output_type": "stream",
     "text": [
      "Epoch 7: 100%|██████████| 135/135 [00:12<00:00, 11.18it/s]\n"
     ]
    },
    {
     "name": "stdout",
     "output_type": "stream",
     "text": [
      "Epoch 7 | Avg Policy Loss: 5.0530, Avg Value Loss: 0.1456\n",
      "Validation | Avg Policy Loss: 4.8862, Avg Value Loss: 0.1452\n",
      "Model saved at epoch 7 with validation loss 6.3379\n"
     ]
    },
    {
     "name": "stderr",
     "output_type": "stream",
     "text": [
      "Epoch 8: 100%|██████████| 135/135 [00:12<00:00, 11.21it/s]\n"
     ]
    },
    {
     "name": "stdout",
     "output_type": "stream",
     "text": [
      "Epoch 8 | Avg Policy Loss: 4.5285, Avg Value Loss: 0.1468\n",
      "Validation | Avg Policy Loss: 4.5088, Avg Value Loss: 0.1482\n",
      "Model saved at epoch 8 with validation loss 5.9909\n"
     ]
    },
    {
     "name": "stderr",
     "output_type": "stream",
     "text": [
      "Epoch 9: 100%|██████████| 135/135 [00:12<00:00, 10.64it/s]\n"
     ]
    },
    {
     "name": "stdout",
     "output_type": "stream",
     "text": [
      "Epoch 9 | Avg Policy Loss: 4.1623, Avg Value Loss: 0.1459\n",
      "Validation | Avg Policy Loss: 4.2644, Avg Value Loss: 0.1448\n",
      "Model saved at epoch 9 with validation loss 5.7128\n"
     ]
    },
    {
     "name": "stderr",
     "output_type": "stream",
     "text": [
      "Epoch 10: 100%|██████████| 135/135 [00:13<00:00, 10.38it/s]\n"
     ]
    },
    {
     "name": "stdout",
     "output_type": "stream",
     "text": [
      "Epoch 10 | Avg Policy Loss: 3.9159, Avg Value Loss: 0.1452\n",
      "Validation | Avg Policy Loss: 4.1092, Avg Value Loss: 0.1461\n",
      "Model saved at epoch 10 with validation loss 5.5699\n"
     ]
    },
    {
     "name": "stderr",
     "output_type": "stream",
     "text": [
      "Epoch 11: 100%|██████████| 135/135 [00:12<00:00, 11.03it/s]\n"
     ]
    },
    {
     "name": "stdout",
     "output_type": "stream",
     "text": [
      "Epoch 11 | Avg Policy Loss: 3.7380, Avg Value Loss: 0.1409\n",
      "Validation | Avg Policy Loss: 3.9998, Avg Value Loss: 0.1413\n",
      "Model saved at epoch 11 with validation loss 5.4132\n"
     ]
    },
    {
     "name": "stderr",
     "output_type": "stream",
     "text": [
      "Epoch 12: 100%|██████████| 135/135 [00:11<00:00, 11.30it/s]\n"
     ]
    },
    {
     "name": "stdout",
     "output_type": "stream",
     "text": [
      "Epoch 12 | Avg Policy Loss: 3.6010, Avg Value Loss: 0.1387\n",
      "Validation | Avg Policy Loss: 3.9189, Avg Value Loss: 0.1439\n",
      "Model saved at epoch 12 with validation loss 5.3577\n"
     ]
    },
    {
     "name": "stderr",
     "output_type": "stream",
     "text": [
      "Epoch 13: 100%|██████████| 135/135 [00:12<00:00, 10.61it/s]\n"
     ]
    },
    {
     "name": "stdout",
     "output_type": "stream",
     "text": [
      "Epoch 13 | Avg Policy Loss: 3.4900, Avg Value Loss: 0.1384\n",
      "Validation | Avg Policy Loss: 3.8567, Avg Value Loss: 0.1386\n",
      "Model saved at epoch 13 with validation loss 5.2422\n"
     ]
    },
    {
     "name": "stderr",
     "output_type": "stream",
     "text": [
      "Epoch 14: 100%|██████████| 135/135 [00:12<00:00, 11.22it/s]\n"
     ]
    },
    {
     "name": "stdout",
     "output_type": "stream",
     "text": [
      "Epoch 14 | Avg Policy Loss: 3.3970, Avg Value Loss: 0.1343\n",
      "Validation | Avg Policy Loss: 3.8085, Avg Value Loss: 0.1386\n",
      "Model saved at epoch 14 with validation loss 5.1946\n"
     ]
    },
    {
     "name": "stderr",
     "output_type": "stream",
     "text": [
      "Epoch 15: 100%|██████████| 135/135 [00:11<00:00, 11.49it/s]\n"
     ]
    },
    {
     "name": "stdout",
     "output_type": "stream",
     "text": [
      "Epoch 15 | Avg Policy Loss: 3.3169, Avg Value Loss: 0.1331\n",
      "Validation | Avg Policy Loss: 3.7699, Avg Value Loss: 0.1344\n",
      "Model saved at epoch 15 with validation loss 5.1142\n"
     ]
    },
    {
     "name": "stderr",
     "output_type": "stream",
     "text": [
      "Epoch 16: 100%|██████████| 135/135 [00:11<00:00, 11.38it/s]\n"
     ]
    },
    {
     "name": "stdout",
     "output_type": "stream",
     "text": [
      "Epoch 16 | Avg Policy Loss: 3.2464, Avg Value Loss: 0.1304\n",
      "Validation | Avg Policy Loss: 3.7380, Avg Value Loss: 0.1326\n",
      "Model saved at epoch 16 with validation loss 5.0640\n"
     ]
    },
    {
     "name": "stderr",
     "output_type": "stream",
     "text": [
      "Epoch 17: 100%|██████████| 135/135 [00:12<00:00, 10.88it/s]\n"
     ]
    },
    {
     "name": "stdout",
     "output_type": "stream",
     "text": [
      "Epoch 17 | Avg Policy Loss: 3.1834, Avg Value Loss: 0.1287\n",
      "Validation | Avg Policy Loss: 3.7115, Avg Value Loss: 0.1335\n",
      "Model saved at epoch 17 with validation loss 5.0466\n"
     ]
    },
    {
     "name": "stderr",
     "output_type": "stream",
     "text": [
      "Epoch 18: 100%|██████████| 135/135 [00:12<00:00, 10.40it/s]\n"
     ]
    },
    {
     "name": "stdout",
     "output_type": "stream",
     "text": [
      "Epoch 18 | Avg Policy Loss: 3.1259, Avg Value Loss: 0.1278\n",
      "Validation | Avg Policy Loss: 3.6883, Avg Value Loss: 0.1323\n",
      "Model saved at epoch 18 with validation loss 5.0113\n"
     ]
    },
    {
     "name": "stderr",
     "output_type": "stream",
     "text": [
      "Epoch 19: 100%|██████████| 135/135 [00:11<00:00, 11.69it/s]\n"
     ]
    },
    {
     "name": "stdout",
     "output_type": "stream",
     "text": [
      "Epoch 19 | Avg Policy Loss: 3.0738, Avg Value Loss: 0.1247\n",
      "Validation | Avg Policy Loss: 3.6688, Avg Value Loss: 0.1323\n",
      "Model saved at epoch 19 with validation loss 4.9915\n"
     ]
    },
    {
     "name": "stderr",
     "output_type": "stream",
     "text": [
      "Epoch 20: 100%|██████████| 135/135 [00:11<00:00, 11.65it/s]\n"
     ]
    },
    {
     "name": "stdout",
     "output_type": "stream",
     "text": [
      "Epoch 20 | Avg Policy Loss: 3.0253, Avg Value Loss: 0.1237\n",
      "Validation | Avg Policy Loss: 3.6527, Avg Value Loss: 0.1279\n",
      "Model saved at epoch 20 with validation loss 4.9318\n"
     ]
    },
    {
     "name": "stderr",
     "output_type": "stream",
     "text": [
      "Epoch 21: 100%|██████████| 135/135 [00:11<00:00, 11.29it/s]\n"
     ]
    },
    {
     "name": "stdout",
     "output_type": "stream",
     "text": [
      "Epoch 21 | Avg Policy Loss: 2.9799, Avg Value Loss: 0.1222\n",
      "Validation | Avg Policy Loss: 3.6414, Avg Value Loss: 0.1257\n",
      "Model saved at epoch 21 with validation loss 4.8986\n"
     ]
    },
    {
     "name": "stderr",
     "output_type": "stream",
     "text": [
      "Epoch 22: 100%|██████████| 135/135 [00:11<00:00, 11.62it/s]\n"
     ]
    },
    {
     "name": "stdout",
     "output_type": "stream",
     "text": [
      "Epoch 22 | Avg Policy Loss: 2.9383, Avg Value Loss: 0.1199\n",
      "Validation | Avg Policy Loss: 3.6298, Avg Value Loss: 0.1337\n"
     ]
    },
    {
     "name": "stderr",
     "output_type": "stream",
     "text": [
      "Epoch 23: 100%|██████████| 135/135 [00:14<00:00,  9.35it/s]\n"
     ]
    },
    {
     "name": "stdout",
     "output_type": "stream",
     "text": [
      "Epoch 23 | Avg Policy Loss: 2.8989, Avg Value Loss: 0.1196\n",
      "Validation | Avg Policy Loss: 3.6199, Avg Value Loss: 0.1239\n",
      "Model saved at epoch 23 with validation loss 4.8584\n"
     ]
    },
    {
     "name": "stderr",
     "output_type": "stream",
     "text": [
      "Epoch 24: 100%|██████████| 135/135 [00:12<00:00, 10.95it/s]\n"
     ]
    },
    {
     "name": "stdout",
     "output_type": "stream",
     "text": [
      "Epoch 24 | Avg Policy Loss: 2.8613, Avg Value Loss: 0.1167\n",
      "Validation | Avg Policy Loss: 3.6119, Avg Value Loss: 0.1247\n"
     ]
    },
    {
     "name": "stderr",
     "output_type": "stream",
     "text": [
      "Epoch 25: 100%|██████████| 135/135 [00:12<00:00, 10.73it/s]\n"
     ]
    },
    {
     "name": "stdout",
     "output_type": "stream",
     "text": [
      "Epoch 25 | Avg Policy Loss: 2.8260, Avg Value Loss: 0.1165\n",
      "Validation | Avg Policy Loss: 3.6053, Avg Value Loss: 0.1217\n",
      "Model saved at epoch 25 with validation loss 4.8225\n"
     ]
    },
    {
     "name": "stderr",
     "output_type": "stream",
     "text": [
      "Epoch 26: 100%|██████████| 135/135 [00:12<00:00, 10.52it/s]\n"
     ]
    },
    {
     "name": "stdout",
     "output_type": "stream",
     "text": [
      "Epoch 26 | Avg Policy Loss: 2.7918, Avg Value Loss: 0.1144\n",
      "Validation | Avg Policy Loss: 3.6018, Avg Value Loss: 0.1212\n",
      "Model saved at epoch 26 with validation loss 4.8139\n"
     ]
    },
    {
     "name": "stderr",
     "output_type": "stream",
     "text": [
      "Epoch 27: 100%|██████████| 135/135 [00:12<00:00, 10.56it/s]\n"
     ]
    },
    {
     "name": "stdout",
     "output_type": "stream",
     "text": [
      "Epoch 27 | Avg Policy Loss: 2.7594, Avg Value Loss: 0.1139\n",
      "Validation | Avg Policy Loss: 3.5967, Avg Value Loss: 0.1200\n",
      "Model saved at epoch 27 with validation loss 4.7965\n"
     ]
    },
    {
     "name": "stderr",
     "output_type": "stream",
     "text": [
      "Epoch 28: 100%|██████████| 135/135 [00:10<00:00, 12.29it/s]\n"
     ]
    },
    {
     "name": "stdout",
     "output_type": "stream",
     "text": [
      "Epoch 28 | Avg Policy Loss: 2.7282, Avg Value Loss: 0.1109\n",
      "Validation | Avg Policy Loss: 3.5934, Avg Value Loss: 0.1202\n",
      "Model saved at epoch 28 with validation loss 4.7954\n"
     ]
    },
    {
     "name": "stderr",
     "output_type": "stream",
     "text": [
      "Epoch 29: 100%|██████████| 135/135 [00:11<00:00, 11.76it/s]\n"
     ]
    },
    {
     "name": "stdout",
     "output_type": "stream",
     "text": [
      "Epoch 29 | Avg Policy Loss: 2.6980, Avg Value Loss: 0.1108\n",
      "Validation | Avg Policy Loss: 3.5902, Avg Value Loss: 0.1186\n",
      "Model saved at epoch 29 with validation loss 4.7764\n"
     ]
    },
    {
     "name": "stderr",
     "output_type": "stream",
     "text": [
      "Epoch 30: 100%|██████████| 135/135 [00:11<00:00, 11.33it/s]\n"
     ]
    },
    {
     "name": "stdout",
     "output_type": "stream",
     "text": [
      "Epoch 30 | Avg Policy Loss: 2.6695, Avg Value Loss: 0.1095\n",
      "Validation | Avg Policy Loss: 3.5890, Avg Value Loss: 0.1184\n",
      "Model saved at epoch 30 with validation loss 4.7732\n"
     ]
    },
    {
     "name": "stderr",
     "output_type": "stream",
     "text": [
      "Epoch 31: 100%|██████████| 135/135 [00:11<00:00, 11.63it/s]\n"
     ]
    },
    {
     "name": "stdout",
     "output_type": "stream",
     "text": [
      "Epoch 31 | Avg Policy Loss: 2.6415, Avg Value Loss: 0.1078\n",
      "Validation | Avg Policy Loss: 3.5901, Avg Value Loss: 0.1177\n",
      "Model saved at epoch 31 with validation loss 4.7676\n"
     ]
    },
    {
     "name": "stderr",
     "output_type": "stream",
     "text": [
      "Epoch 32: 100%|██████████| 135/135 [00:11<00:00, 11.87it/s]\n"
     ]
    },
    {
     "name": "stdout",
     "output_type": "stream",
     "text": [
      "Epoch 32 | Avg Policy Loss: 2.6150, Avg Value Loss: 0.1068\n",
      "Validation | Avg Policy Loss: 3.5889, Avg Value Loss: 0.1172\n",
      "Model saved at epoch 32 with validation loss 4.7613\n"
     ]
    },
    {
     "name": "stderr",
     "output_type": "stream",
     "text": [
      "Epoch 33: 100%|██████████| 135/135 [00:11<00:00, 11.92it/s]\n"
     ]
    },
    {
     "name": "stdout",
     "output_type": "stream",
     "text": [
      "Epoch 33 | Avg Policy Loss: 2.5891, Avg Value Loss: 0.1060\n",
      "Validation | Avg Policy Loss: 3.5897, Avg Value Loss: 0.1193\n"
     ]
    },
    {
     "name": "stderr",
     "output_type": "stream",
     "text": [
      "Epoch 34: 100%|██████████| 135/135 [00:11<00:00, 11.40it/s]\n"
     ]
    },
    {
     "name": "stdout",
     "output_type": "stream",
     "text": [
      "Epoch 34 | Avg Policy Loss: 2.5637, Avg Value Loss: 0.1055\n",
      "Validation | Avg Policy Loss: 3.5910, Avg Value Loss: 0.1175\n"
     ]
    },
    {
     "name": "stderr",
     "output_type": "stream",
     "text": [
      "Epoch 35: 100%|██████████| 135/135 [00:12<00:00, 11.06it/s]\n"
     ]
    },
    {
     "name": "stdout",
     "output_type": "stream",
     "text": [
      "Epoch 35 | Avg Policy Loss: 2.5398, Avg Value Loss: 0.1042\n",
      "Validation | Avg Policy Loss: 3.5910, Avg Value Loss: 0.1172\n"
     ]
    },
    {
     "name": "stderr",
     "output_type": "stream",
     "text": [
      "Epoch 36: 100%|██████████| 135/135 [00:11<00:00, 11.59it/s]\n"
     ]
    },
    {
     "name": "stdout",
     "output_type": "stream",
     "text": [
      "Epoch 36 | Avg Policy Loss: 2.5160, Avg Value Loss: 0.1025\n",
      "Validation | Avg Policy Loss: 3.5941, Avg Value Loss: 0.1278\n"
     ]
    },
    {
     "name": "stderr",
     "output_type": "stream",
     "text": [
      "Epoch 37: 100%|██████████| 135/135 [00:11<00:00, 12.02it/s]\n"
     ]
    },
    {
     "name": "stdout",
     "output_type": "stream",
     "text": [
      "Epoch 37 | Avg Policy Loss: 2.4926, Avg Value Loss: 0.1038\n",
      "Validation | Avg Policy Loss: 3.5968, Avg Value Loss: 0.1136\n",
      "Model saved at epoch 37 with validation loss 4.7328\n"
     ]
    },
    {
     "name": "stderr",
     "output_type": "stream",
     "text": [
      "Epoch 38: 100%|██████████| 135/135 [00:12<00:00, 11.15it/s]\n"
     ]
    },
    {
     "name": "stdout",
     "output_type": "stream",
     "text": [
      "Epoch 38 | Avg Policy Loss: 2.4701, Avg Value Loss: 0.1000\n",
      "Validation | Avg Policy Loss: 3.5994, Avg Value Loss: 0.1130\n",
      "Model saved at epoch 38 with validation loss 4.7289\n"
     ]
    },
    {
     "name": "stderr",
     "output_type": "stream",
     "text": [
      "Epoch 39: 100%|██████████| 135/135 [00:11<00:00, 12.26it/s]\n"
     ]
    },
    {
     "name": "stdout",
     "output_type": "stream",
     "text": [
      "Epoch 39 | Avg Policy Loss: 2.4490, Avg Value Loss: 0.0994\n",
      "Validation | Avg Policy Loss: 3.6032, Avg Value Loss: 0.1120\n",
      "Model saved at epoch 39 with validation loss 4.7234\n"
     ]
    },
    {
     "name": "stderr",
     "output_type": "stream",
     "text": [
      "Epoch 40: 100%|██████████| 135/135 [00:12<00:00, 11.00it/s]\n"
     ]
    },
    {
     "name": "stdout",
     "output_type": "stream",
     "text": [
      "Epoch 40 | Avg Policy Loss: 2.4278, Avg Value Loss: 0.1004\n",
      "Validation | Avg Policy Loss: 3.6069, Avg Value Loss: 0.1287\n"
     ]
    },
    {
     "name": "stderr",
     "output_type": "stream",
     "text": [
      "Epoch 41: 100%|██████████| 135/135 [00:10<00:00, 12.66it/s]\n"
     ]
    },
    {
     "name": "stdout",
     "output_type": "stream",
     "text": [
      "Epoch 41 | Avg Policy Loss: 2.4069, Avg Value Loss: 0.0983\n",
      "Validation | Avg Policy Loss: 3.6114, Avg Value Loss: 0.1129\n"
     ]
    },
    {
     "name": "stderr",
     "output_type": "stream",
     "text": [
      "Epoch 42: 100%|██████████| 135/135 [00:10<00:00, 12.85it/s]\n"
     ]
    },
    {
     "name": "stdout",
     "output_type": "stream",
     "text": [
      "Epoch 42 | Avg Policy Loss: 2.3863, Avg Value Loss: 0.0983\n",
      "Validation | Avg Policy Loss: 3.6167, Avg Value Loss: 0.1222\n"
     ]
    },
    {
     "name": "stderr",
     "output_type": "stream",
     "text": [
      "Epoch 43: 100%|██████████| 135/135 [00:10<00:00, 12.54it/s]\n"
     ]
    },
    {
     "name": "stdout",
     "output_type": "stream",
     "text": [
      "Epoch 43 | Avg Policy Loss: 2.3665, Avg Value Loss: 0.0978\n",
      "Validation | Avg Policy Loss: 3.6205, Avg Value Loss: 0.1104\n"
     ]
    },
    {
     "name": "stderr",
     "output_type": "stream",
     "text": [
      "Epoch 44: 100%|██████████| 135/135 [00:10<00:00, 12.93it/s]\n"
     ]
    },
    {
     "name": "stdout",
     "output_type": "stream",
     "text": [
      "Epoch 44 | Avg Policy Loss: 2.3473, Avg Value Loss: 0.0954\n",
      "Validation | Avg Policy Loss: 3.6285, Avg Value Loss: 0.1100\n"
     ]
    },
    {
     "name": "stderr",
     "output_type": "stream",
     "text": [
      "Epoch 45: 100%|██████████| 135/135 [00:10<00:00, 12.45it/s]\n"
     ]
    },
    {
     "name": "stdout",
     "output_type": "stream",
     "text": [
      "Epoch 45 | Avg Policy Loss: 2.3284, Avg Value Loss: 0.0959\n",
      "Validation | Avg Policy Loss: 3.6326, Avg Value Loss: 0.1136\n"
     ]
    },
    {
     "name": "stderr",
     "output_type": "stream",
     "text": [
      "Epoch 46: 100%|██████████| 135/135 [00:11<00:00, 11.91it/s]\n"
     ]
    },
    {
     "name": "stdout",
     "output_type": "stream",
     "text": [
      "Epoch 46 | Avg Policy Loss: 2.3092, Avg Value Loss: 0.0945\n",
      "Validation | Avg Policy Loss: 3.6393, Avg Value Loss: 0.1094\n"
     ]
    },
    {
     "name": "stderr",
     "output_type": "stream",
     "text": [
      "Epoch 47: 100%|██████████| 135/135 [00:12<00:00, 10.39it/s]\n"
     ]
    },
    {
     "name": "stdout",
     "output_type": "stream",
     "text": [
      "Epoch 47 | Avg Policy Loss: 2.2913, Avg Value Loss: 0.0945\n",
      "Validation | Avg Policy Loss: 3.6434, Avg Value Loss: 0.1104\n"
     ]
    },
    {
     "name": "stderr",
     "output_type": "stream",
     "text": [
      "Epoch 48: 100%|██████████| 135/135 [00:10<00:00, 12.65it/s]\n"
     ]
    },
    {
     "name": "stdout",
     "output_type": "stream",
     "text": [
      "Epoch 48 | Avg Policy Loss: 2.2738, Avg Value Loss: 0.0924\n",
      "Validation | Avg Policy Loss: 3.6513, Avg Value Loss: 0.1107\n"
     ]
    },
    {
     "name": "stderr",
     "output_type": "stream",
     "text": [
      "Epoch 49: 100%|██████████| 135/135 [00:11<00:00, 12.21it/s]\n"
     ]
    },
    {
     "name": "stdout",
     "output_type": "stream",
     "text": [
      "Epoch 49 | Avg Policy Loss: 2.2564, Avg Value Loss: 0.0936\n",
      "Validation | Avg Policy Loss: 3.6572, Avg Value Loss: 0.1102\n",
      "Early stopping triggered.\n"
     ]
    }
   ],
   "source": [
    "model = train_model(train_loader, val_loader ,epochs=100, lr=1e-4, device=device)"
   ]
  },
  {
   "cell_type": "code",
   "execution_count": 10,
   "metadata": {},
   "outputs": [],
   "source": [
    "model, losses = model"
   ]
  },
  {
   "cell_type": "code",
   "execution_count": null,
   "metadata": {},
   "outputs": [
    {
     "data": {
      "image/png": "[encoded data removed]",
      "text/plain": [
       "<Figure size 640x480 with 1 Axes>"
      ]
     },
     "metadata": {},
     "output_type": "display_data"
    },
    {
     "data": {
      "image/png": "[encoded data removed]",
      "text/plain": [
       "<Figure size 640x480 with 1 Axes>"
      ]
     },
     "metadata": {},
     "output_type": "display_data"
    }
   ],
   "source": [
    "import matplotlib.pyplot as plt\n",
    "\n",
    "plt.figure()\n",
    "plt.plot(losses[\"train_policy\"], label=\"Train Policy Loss\")\n",
    "plt.plot(losses[\"val_policy\"], label=\"Validation Policy Loss\")\n",
    "plt.xlabel(\"Epoch\")\n",
    "plt.ylabel(\"Loss\")\n",
    "plt.title(\"Policy Loss\")\n",
    "plt.legend()\n",
    "plt.grid(True)\n",
    "plt.show()\n",
    "\n",
    "# Plot value losses\n",
    "plt.figure()\n",
    "plt.plot(losses[\"train_value\"], label=\"Train Value Loss\")\n",
    "plt.plot(losses[\"val_value\"], label=\"Validation Value Loss\")\n",
    "plt.xlabel(\"Epoch\")\n",
    "plt.ylabel(\"Loss\")\n",
    "plt.title(\"Value Loss\")\n",
    "plt.legend()\n",
    "plt.grid(True)\n",
    "plt.show()\n"
   ]
  },
  {
   "cell_type": "code",
   "execution_count": 14,
   "metadata": {},
   "outputs": [],
   "source": [
    "torch.save(model.state_dict(), \"model.pth\")"
   ]
  }
 ],
 "metadata": {
  "kernelspec": {
   "display_name": "rl",
   "language": "python",
   "name": "python3"
  },
  "language_info": {
   "codemirror_mode": {
    "name": "ipython",
    "version": 3
   },
   "file_extension": ".py",
   "mimetype": "text/x-python",
   "name": "python",
   "nbconvert_exporter": "python",
   "pygments_lexer": "ipython3",
   "version": "3.11.11"
  }
 },
 "nbformat": 4,
 "nbformat_minor": 2
}
